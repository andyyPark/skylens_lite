{
 "cells": [
  {
   "cell_type": "code",
   "execution_count": 1,
   "id": "3fc85da5-7ed6-42d2-b9f9-2176528bdef3",
   "metadata": {},
   "outputs": [
    {
     "name": "stderr",
     "output_type": "stream",
     "text": [
      "\n",
      "WARNING: version mismatch between CFITSIO header (v4.000999999999999) and linked library (v4.01).\n",
      "\n",
      "\n",
      "WARNING: version mismatch between CFITSIO header (v4.000999999999999) and linked library (v4.01).\n",
      "\n",
      "\n",
      "WARNING: version mismatch between CFITSIO header (v4.000999999999999) and linked library (v4.01).\n",
      "\n"
     ]
    }
   ],
   "source": [
    "import gc\n",
    "import os\n",
    "import glob\n",
    "import fitsio\n",
    "import glob\n",
    "import catutil\n",
    "import numpy as np"
   ]
  },
  {
   "cell_type": "code",
   "execution_count": 2,
   "id": "67c3cb0b-de04-4f9d-a224-134db65a4046",
   "metadata": {},
   "outputs": [],
   "source": [
    "if False:\n",
    "    # write the photoz best for selection\n",
    "    obsDir='/hildafs/projects/phy200017p/share/HSC_shape_catalog/'\n",
    "    zdat=[]\n",
    "    for fieldname in catutil.field_names:\n",
    "        fname= os.path.join(obsDir,'%s_calibrated_pz.fits' %fieldname)\n",
    "        tmp=fitsio.read(fname)[['object_id','ephor_photoz_best']]\n",
    "        zdat.append(tmp)\n",
    "        del tmp\n",
    "    gc.collect()\n",
    "    zdat=np.hstack(zdat)\n",
    "    zdat.sort(order='object_id')\n",
    "    fitsio.write('/hildafs/projects/phy200017p/share/raytracesim/HSC_S16A/ephor_zbest.fits',zdat)\n",
    "else:\n",
    "    zdat=fitsio.read('/hildafs/projects/phy200017p/share/raytracesim/HSC_S16A/ephor_zbest.fits')"
   ]
  },
  {
   "cell_type": "code",
   "execution_count": 3,
   "id": "556b0ec2-1b73-4aa9-928e-c63d6ca6f41e",
   "metadata": {},
   "outputs": [],
   "source": [
    "def prepare_data(mockDir,isim,irot):\n",
    "    dall=[]\n",
    "    for fieldname in catutil.field_names:\n",
    "        dfield=[]\n",
    "        sDir= os.path.join(mockDir,fieldname,'r%03d'%isim, 'rotmat%d' %irot,'*.fits')\n",
    "        fnamelist=glob.glob(sDir)\n",
    "        for fname in fnamelist:\n",
    "            data=fitsio.read(fname)\n",
    "            dfield.append(data)\n",
    "            del data\n",
    "            #os.remove(fname)\n",
    "        del fnamelist,sDir\n",
    "        dall.append(np.hstack(dfield))\n",
    "        del dfield\n",
    "        gc.collect()\n",
    "    out=np.hstack(dall)\n",
    "    out.sort(order='object_id')\n",
    "    return out"
   ]
  },
  {
   "cell_type": "code",
   "execution_count": null,
   "id": "26049e7f-a6b4-4edd-8b91-3e11e2ef40e3",
   "metadata": {},
   "outputs": [],
   "source": [
    "zdat=fitsio.read('/hildafs/projects/phy200017p/share/raytracesim/HSC_S16A/ephor_zbest.fits')\n",
    "odir='/hildafs/projects/phy200017p/share/raytracesim/HSC_S16A/mocks_4zbins/'\n",
    "dDir='/hildafs/projects/phy200017p/share/raytracesim/HSC_S16A/downloads/'\n",
    "for isim in range(25,108):\n",
    "    print(isim)\n",
    "    for irot in range(21):\n",
    "        oname=os.path.join(odir,'r%03d_rot%02d_zbin*.fits' %(isim,irot))\n",
    "        if len(glob.glob(oname))==4:\n",
    "            continue\n",
    "        print(irot)\n",
    "        mock=prepare_data(dDir,isim,irot)\n",
    "        assert np.all(mock['object_id']==zdat['object_id'])\n",
    "        for iz in range(4):\n",
    "            oname=os.path.join(odir,'r%03d_rot%02d_zbin%d.fits' %(isim,irot,iz+1))\n",
    "            if os.path.isfile(oname):\n",
    "                continue\n",
    "            zmin=(iz+1)*0.3\n",
    "            zmax=(iz+2)*0.3\n",
    "            msk=(zdat['ephor_photoz_best']>=zmin)&(zdat['ephor_photoz_best']<zmax)\n",
    "            fitsio.write(oname,mock[msk])\n",
    "            del zmin,zmax,msk,oname\n",
    "        del mock"
   ]
  },
  {
   "cell_type": "code",
   "execution_count": 5,
   "id": "eda0eecb-3d1c-4128-ad8e-af1973c7eb38",
   "metadata": {},
   "outputs": [
    {
     "data": {
      "text/plain": [
       "546"
      ]
     },
     "execution_count": 5,
     "metadata": {},
     "output_type": "execute_result"
    }
   ],
   "source": [
    "26*21"
   ]
  },
  {
   "cell_type": "code",
   "execution_count": 6,
   "id": "d33cd172-9371-463c-83be-15fd74ebee9e",
   "metadata": {},
   "outputs": [
    {
     "data": {
      "text/plain": [
       "2268"
      ]
     },
     "execution_count": 6,
     "metadata": {},
     "output_type": "execute_result"
    }
   ],
   "source": [
    "108*21"
   ]
  },
  {
   "cell_type": "code",
   "execution_count": null,
   "id": "e61549e3-34cc-41a0-a71d-67e1a5e7417a",
   "metadata": {},
   "outputs": [],
   "source": []
  }
 ],
 "metadata": {
  "kernelspec": {
   "display_name": "Python 3 (ipykernel)",
   "language": "python",
   "name": "python3"
  },
  "language_info": {
   "codemirror_mode": {
    "name": "ipython",
    "version": 3
   },
   "file_extension": ".py",
   "mimetype": "text/x-python",
   "name": "python",
   "nbconvert_exporter": "python",
   "pygments_lexer": "ipython3",
   "version": "3.10.0"
  }
 },
 "nbformat": 4,
 "nbformat_minor": 5
}
