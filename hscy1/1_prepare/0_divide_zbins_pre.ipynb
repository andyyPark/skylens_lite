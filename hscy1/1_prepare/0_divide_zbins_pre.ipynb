{
 "cells": [
  {
   "cell_type": "code",
   "execution_count": 1,
   "id": "3fc85da5-7ed6-42d2-b9f9-2176528bdef3",
   "metadata": {},
   "outputs": [],
   "source": [
    "%matplotlib inline\n",
    "import gc\n",
    "import os\n",
    "import glob\n",
    "import fitsio\n",
    "import numpy as np\n",
    "#import dask.dataframe as ddf\n",
    "import matplotlib.pyplot as plt"
   ]
  },
  {
   "cell_type": "code",
   "execution_count": 2,
   "id": "6c7e3896-5120-4056-906f-2397d428767e",
   "metadata": {},
   "outputs": [],
   "source": [
    "fields=['XMM','VVDS','HECTOMAP','GAMA09H','WIDE12H','GAMA15H']\n",
    "wrkDir='/hildafs/projects/phy200017p/share/'\n",
    "outDir=os.path.join(wrkDir,'raytracesim/HSC_S16A/mocks/')"
   ]
  },
  {
   "cell_type": "code",
   "execution_count": 3,
   "id": "578e85c7-f97a-468d-9699-71161576e7ff",
   "metadata": {},
   "outputs": [],
   "source": [
    "mockDir=os.path.join(wrkDir,'raytracesim/HSC_S16A')\n",
    "for isim in range(25): #108 n-body simulations\n",
    "    for irot in range(21): # 21 rotations\n",
    "        outfname=os.path.join(outDir,'r%03d_rot%d.parquet' %(isim,irot))\n",
    "        if os.path.isdir(outfname):\n",
    "            continue\n",
    "        datFin=[]\n",
    "        first =True # first in fields\n",
    "        for fieldname in fields:\n",
    "            datAll=[]\n",
    "            sDir= os.path.join(mockDir,fieldname,'r%03d'%isim, 'rotmat%d' %irot,'*.fits')\n",
    "            fnamelist=glob.glob(sDir)\n",
    "            for fname in fnamelist:\n",
    "                data=fitsio.read(fname)\n",
    "                datAll.append(data)\n",
    "                del data\n",
    "                os.remove(fname)\n",
    "            del fnamelist\n",
    "            tmp=ddf.from_array(np.hstack(datAll).byteswap().newbyteorder())\n",
    "            del datAll\n",
    "            tmp['field']=fieldname\n",
    "            if first:\n",
    "                datFin=tmp\n",
    "                first=False\n",
    "            else:\n",
    "                datFin=ddf.concat([datFin,tmp])\n",
    "            del tmp\n",
    "            gc.collect()\n",
    "         \n",
    "        datFin['field'].astype(\"string[pyarrow]\")\n",
    "        datFin.to_parquet(outfname,overwrite=True)\n",
    "        del datFin\n",
    "        gc.collect()"
   ]
  },
  {
   "cell_type": "code",
   "execution_count": 4,
   "id": "c7f21e56-b273-456f-b0f2-05063ca465bf",
   "metadata": {},
   "outputs": [],
   "source": [
    "mockDir=os.path.join(wrkDir,'raytracesim/HSC_S16A')\n",
    "for isim in range(108): #108 n-body simulations\n",
    "    for irot in range(21): # 21 rotations\n",
    "        outfname=os.path.join(outDir,'r%03d_rot%d.parquet' %(isim,irot))\n",
    "        if os.path.isdir(outfname):\n",
    "            for fieldname in fields:\n",
    "                sDir= os.path.join(mockDir,fieldname,'r%03d'%isim, 'rotmat%d' %irot,'*.fits')\n",
    "                fnamelist=glob.glob(sDir)\n",
    "                for fname in fnamelist:\n",
    "                    if os.path.isfile(fname):\n",
    "                        os.remove(fname)"
   ]
  },
  {
   "cell_type": "code",
   "execution_count": 5,
   "id": "f0d00a65-ec83-41bf-ab62-7c960f73aa36",
   "metadata": {},
   "outputs": [
    {
     "data": {
      "text/plain": [
       "0"
      ]
     },
     "execution_count": 5,
     "metadata": {},
     "output_type": "execute_result"
    }
   ],
   "source": [
    "obsDir='/hildafs/projects/phy200017p/share/HSC_shape_catalog/'\n",
    "outDir='/hildafs/projects/phy200017p/share/raytracesim/HSC_S16A/s16a_data/'\n",
    "outfname=os.path.join(outDir,'shape_calibrated.parquet')\n",
    "\n",
    "datFin=[]\n",
    "for fieldname in fields:\n",
    "    datAll=[]\n",
    "    fname= os.path.join(obsDir,'%s_calibrated.fits' %fieldname)\n",
    "    tmp=ddf.from_array(fitsio.read(fname).byteswap().newbyteorder())\n",
    "    tmp['field']=fieldname\n",
    "    datFin.append(tmp)\n",
    "    del tmp\n",
    "gc.collect()\n",
    "datFin=ddf.concat(datFin)\n",
    "datFin['field'].astype(\"string[pyarrow]\")\n",
    "datFin.set_index('object_id')\n",
    "datFin.to_parquet(outfname,overwrite=True)\n",
    "del datFin\n",
    "gc.collect()"
   ]
  },
  {
   "cell_type": "code",
   "execution_count": 6,
   "id": "8e1d501d-c402-43ac-a5fc-6438274a3342",
   "metadata": {},
   "outputs": [
    {
     "data": {
      "text/plain": [
       "0"
      ]
     },
     "execution_count": 6,
     "metadata": {},
     "output_type": "execute_result"
    }
   ],
   "source": [
    "# photoz\n",
    "obsDir='/hildafs/projects/phy200017p/share/HSC_shape_catalog/'\n",
    "outDir='/hildafs/projects/phy200017p/share/raytracesim/HSC_S16A/s16a_data/'\n",
    "outfname=os.path.join(outDir,'photoz.parquet')\n",
    "\n",
    "datFin=[]\n",
    "for fieldname in fields:\n",
    "    datAll=[]\n",
    "    fname= os.path.join(obsDir,'%s_calibrated_pz.fits' %fieldname)\n",
    "    tmp=ddf.from_array(fitsio.read(fname).byteswap().newbyteorder())\n",
    "    tmp['field']=fieldname\n",
    "    datFin.append(tmp)\n",
    "    del tmp\n",
    "gc.collect()\n",
    "datFin=ddf.concat(datFin)\n",
    "datFin['field'].astype(\"string[pyarrow]\")\n",
    "datFin.set_index('object_id').to_parquet(outfname,overwrite=True)\n",
    "del datFin\n",
    "gc.collect()"
   ]
  },
  {
   "cell_type": "code",
   "execution_count": null,
   "id": "2951ea2a-0190-444d-ab5c-0c9ca66f8d76",
   "metadata": {},
   "outputs": [],
   "source": [
    "for isim in range(25): #108 n-body simulations\n",
    "    for irot in range(21): # 21 rotations\n",
    "        outfname=os.path.join(outDir,'r%03d_rot%d.parquet' %(isim,irot))\n",
    "        assert os.path.isdir(outfname)\n",
    "        mock=ddf.read_parquet(outfname)\n",
    "        mock.set_index('object_id').to_parquet(outfname)\n",
    "        del mock\n",
    "    gc.collect()"
   ]
  }
 ],
 "metadata": {
  "kernelspec": {
   "display_name": "Python 3 (ipykernel)",
   "language": "python",
   "name": "python3"
  },
  "language_info": {
   "codemirror_mode": {
    "name": "ipython",
    "version": 3
   },
   "file_extension": ".py",
   "mimetype": "text/x-python",
   "name": "python",
   "nbconvert_exporter": "python",
   "pygments_lexer": "ipython3",
   "version": "3.10.6"
  }
 },
 "nbformat": 4,
 "nbformat_minor": 5
}
