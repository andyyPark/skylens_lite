{
 "cells": [
  {
   "cell_type": "code",
   "execution_count": 1,
   "metadata": {},
   "outputs": [
    {
     "name": "stderr",
     "output_type": "stream",
     "text": [
      "WARNING:absl:No GPU/TPU found, falling back to CPU. (Set TF_CPP_MIN_LOG_LEVEL=0 and rerun for more info.)\n"
     ]
    },
    {
     "name": "stdout",
     "output_type": "stream",
     "text": [
      "Start_client: No scheduler file, will start local cluster at  ./temp_skylens/pid822158/\n"
     ]
    }
   ],
   "source": [
    "from imaster_paper_args import *"
   ]
  },
  {
   "cell_type": "code",
   "execution_count": 2,
   "metadata": {},
   "outputs": [],
   "source": [
    "from astropy.io import fits\n",
    "import os\n",
    "import numpy as np\n",
    "import matplotlib.pyplot as plt\n",
    "from matplotlib import gridspec\n",
    "\n",
    "import pyccl as ccl\n",
    "import pymaster as nmt\n",
    "import healpy as hp\n",
    "\n",
    "import sys\n",
    "sys.path.insert(0, '../skylens')\n",
    "import correction\n",
    "\n",
    "%load_ext autoreload\n",
    "%autoreload 2"
   ]
  },
  {
   "cell_type": "code",
   "execution_count": 3,
   "metadata": {},
   "outputs": [],
   "source": [
    "path = os.path.join(os.path.dirname(os.environ['SCRATCH']), \n",
    "                    'share/raytracesim/HSC_S16A/mocks_4zbins')"
   ]
  },
  {
   "cell_type": "code",
   "execution_count": 4,
   "metadata": {},
   "outputs": [],
   "source": [
    "i = 25\n",
    "rot = 9\n",
    "sims = [os.path.join(path, sim) for sim in os.listdir(path) if f'r{i:03d}_rot{rot:02d}' in sim]"
   ]
  },
  {
   "cell_type": "code",
   "execution_count": 5,
   "metadata": {},
   "outputs": [],
   "source": [
    "sim_dict = {}\n",
    "for i, sim in enumerate(sims):\n",
    "    # Remove objects with z = -1\n",
    "    sim = fits.open(sim)[1].data\n",
    "    sim = sim[sim['z_source_mock'] != -1]\n",
    "\n",
    "    # Get z centers and boundary\n",
    "    z = np.unique(sim['z_source_mock'])\n",
    "    z_edges = 0.5 * (z[1:] + z[:-1])\n",
    "    z_edges = np.concatenate([[0], z_edges, [np.max(z)+0.2]])\n",
    "    dNdz, _ = np.histogram(sim['z_source_mock'], bins=z_edges, density=True)\n",
    "    sim_dict[i] = {\n",
    "        'z': z,\n",
    "        'dNdz': dNdz,\n",
    "        'ra': sim['ra_mock'],\n",
    "        'dec': sim['dec_mock'],\n",
    "        'e1': sim['e1_mock'],\n",
    "        'e2': sim['e2_mock'],\n",
    "        'g1': sim['shear1_sim'],\n",
    "        'g2': sim['shear2_sim']\n",
    "    }\n",
    "sim_dict['n_bins'] = len(sim_dict.keys())"
   ]
  },
  {
   "cell_type": "code",
   "execution_count": 6,
   "metadata": {},
   "outputs": [],
   "source": [
    "# HSC coverage is 1400 sq deg.\n",
    "full_sky = 4 * np.pi * (180 / np.pi) ** 2\n",
    "f_sky = 137. / (full_sky)"
   ]
  },
  {
   "cell_type": "code",
   "execution_count": 7,
   "metadata": {},
   "outputs": [],
   "source": [
    "use_window=True\n",
    "unit_window=False\n",
    "\n",
    "do_pseudo_cl=True\n",
    "do_xi=False\n",
    "\n",
    "bin_cl=True\n",
    "bin_xi=True\n",
    "\n",
    "use_binned_l=False\n",
    "use_binned_theta=False\n",
    "\n",
    "store_win=True"
   ]
  },
  {
   "cell_type": "code",
   "execution_count": 9,
   "metadata": {},
   "outputs": [
    {
     "name": "stdout",
     "output_type": "stream",
     "text": [
      "ns0:  27.0\n",
      "[0.10002001 0.10082017 0.10162032 ... 2.9981997  2.9989998  2.9998    ] 100 5\n",
      "source_tomo_bins, zmax 5.0 2.9998 0.59997\n",
      "Tracer utils has no tracers\n",
      "skylens will use following default values:  {'yaml_inp_file': None, 'python_inp_file': None, 'l_cl': None, 'Ang_PS': None, 'logger': None, 'tracer_utils': None, 'shear_zbins': None, 'kappa_zbins': None, 'zkernel_func_names': {'shear': 'set_kernel', 'galaxy': 'set_kernel', 'kappa': 'set_kernel'}, 'pk_params': {'non_linear': 1, 'kmax': 30, 'kmin': 0.0003, 'nk': 500, 'scenario': 'dmo', 'pk_func': 'camb_pk_too_many_z', 'halofit_version': 'takahashi'}, 'cosmo_params': {'h': 0.7, 'Omb': 0.046, 'Omd': 0.233, 's8': 0.817, 'Om': 0.279, 'Ase9': 2.1842, 'mnu': 0.06, 'Omk': 0.0, 'tau': 0.06, 'ns': 0.965, 'OmR': 0.0014936944554559178, 'w': -1, 'wa': 0, 'Tcmb': <Quantity 2.7255 K>, 'z_max': 4, 'use_astropy': True, 'Oml': 0.721, 'astropy_cosmo': FlatLambdaCDM(name=\"Planck18\", H0=67.66 km / (Mpc s), Om0=0.30966, Tcmb0=2.7255 K, Neff=3.046, m_nu=[0.   0.   0.06] eV, Ob0=0.04897)}, 'WT_kwargs': None, 'WT': None, 'z_PS': None, 'nz_PS': 100, 'log_z_PS': 2, 'window_lmax': None, 'window_l': None, 'store_win': True, 'Win': None, 'wigner_step': None, 'cl_func_names': {}, 'l_bins_center': None, 'l_bins': None, 'use_binned_l': False, 'do_pseudo_cl': True, 'stack_data': False, 'bin_xi': False, 'do_xi': False, 'theta_bins': None, 'theta_bins_center': None, 'use_binned_theta': False, 'corr_indxs': None, 'stack_indxs': None, 'wigner_files': None, 'clean_tracer_window': True, 'scheduler_info': None, 'njobs_submit_per_worker': 10}\n",
      "Tracer utils has tracers:  ['galaxy']\n"
     ]
    },
    {
     "name": "stderr",
     "output_type": "stream",
     "text": [
      "/hildafs/home/andypark/.local/lib/python3.9/site-packages/skylens-0.1-py3.9.egg/skylens/angular_power_spectra.py:33: RuntimeWarning: divide by zero encountered in true_divide\n"
     ]
    },
    {
     "name": "stdout",
     "output_type": "stream",
     "text": [
      "power spectra function:  <bound method Power_Spectra.camb_pk_too_many_z of <skylens.power_spectra.Power_Spectra object at 0x14e24a93cd60>>\n",
      "Win gen: step size 153 3072 31.0 10 False True\n",
      "Window done. Size: 0.0\n"
     ]
    },
    {
     "name": "stderr",
     "output_type": "stream",
     "text": [
      "/hildafs/home/andypark/.local/lib/python3.9/site-packages/skylens-0.1-py3.9.egg/skylens/angular_power_spectra.py:123: RuntimeWarning: divide by zero encountered in true_divide\n",
      "WARNING:absl:No GPU/TPU found, falling back to CPU. (Set TF_CPP_MIN_LOG_LEVEL=0 and rerun for more info.)\n"
     ]
    },
    {
     "name": "stdout",
     "output_type": "stream",
     "text": [
      "scatter_dict got empty dictionary\n",
      "cl_tomo, Win: None\n",
      "cl graph done\n",
      "gather_dict got empty dictionary\n"
     ]
    }
   ],
   "source": [
    "shear_zbins=lsst_source_tomo_bins(nbins=sim_dict['n_bins'],use_window=use_window,nside=1024,f_sky=f_sky,unit_win=unit_window)"
   ]
  },
  {
   "cell_type": "code",
   "execution_count": 11,
   "metadata": {},
   "outputs": [],
   "source": [
    "with open('../data/mask.pickle', 'rb') as f:\n",
    "    mask = pickle.load(f)"
   ]
  },
  {
   "cell_type": "code",
   "execution_count": 12,
   "metadata": {},
   "outputs": [],
   "source": [
    "for i in range(sim_dict['n_bins']):\n",
    "    sim = sim_dict[i]\n",
    "    shear_zbins[i]['z'] = sim['z']\n",
    "    shear_zbins[i]['dz'] = np.gradient(sim['z'])\n",
    "    shear_zbins[i]['pz'] = sim['dNdz']\n",
    "    shear_zbins[i]['pzdz'] = sim['dNdz'] * np.gradient(sim['z'])\n",
    "    shear_zbins[i]['window'] = mask[i]\n",
    "    shear_zbins[i]['window_N'] = mask[i]"
   ]
  },
  {
   "cell_type": "code",
   "execution_count": 13,
   "metadata": {},
   "outputs": [],
   "source": [
    "corrs = [corr_ll]\n",
    "bi=(0,0)\n",
    "corr=corrs[0]\n",
    "s=s1_s2s[corr]\n",
    "if corr==corr_ll:\n",
    "    s=(2,-2)"
   ]
  },
  {
   "cell_type": "code",
   "execution_count": 14,
   "metadata": {},
   "outputs": [],
   "source": [
    "#setup parameters\n",
    "lmax_cl = 2000 #2000\n",
    "lmin_cl = 0\n",
    "\n",
    "l0 = np.arange(lmin_cl, lmax_cl)\n",
    "\n",
    "window_lmax = lmax_cl\n",
    "\n",
    "lmin_cl_Bins = 200 #lmin_cl+2\n",
    "lmax_cl_Bins = lmax_cl - 10\n",
    "Nl_bins = 25\n",
    "\n",
    "#l_bins = np.unique(np.int64(np.logspace(np.log10(lmin_cl_Bins), np.log10(lmax_cl_Bins), Nl_bins+1)))\n",
    "#l_bins = np.arange(lmin_cl_Bins, lmax_cl_Bins, Nl_bins)\n",
    "l_bins = np.linspace(lmin_cl_Bins, lmax_cl_Bins, Nl_bins)\n",
    "lb = .5 * (l_bins[1:] + l_bins[:-1])\n",
    "dl = (l_bins[1:] - l_bins[:-1])\n",
    "lb_cl = lb * 1.\n",
    "l_bins_center = lb * 1.\n",
    "Nl_bins = len(lb)\n",
    "\n",
    "l = l0"
   ]
  },
  {
   "cell_type": "code",
   "execution_count": 15,
   "metadata": {},
   "outputs": [
    {
     "name": "stdout",
     "output_type": "stream",
     "text": [
      "skylens will use following default values:  {'yaml_inp_file': None, 'python_inp_file': None, 'use_defaults': None, 'l_cl': None, 'Ang_PS': None, 'logger': None, 'kappa_zbins': None, 'galaxy_zbins': None, 'zkernel_func_names': {'shear': 'set_kernel', 'galaxy': 'set_kernel', 'kappa': 'set_kernel'}, 'pk_params': {'non_linear': 1, 'kmax': 30, 'kmin': 0.0003, 'nk': 500, 'scenario': 'dmo', 'pk_func': 'camb_pk_too_many_z', 'halofit_version': 'takahashi'}, 'cosmo_params': {'h': 0.7, 'Omb': 0.046, 'Omd': 0.233, 's8': 0.817, 'Om': 0.279, 'Ase9': 2.1842, 'mnu': 0.06, 'Omk': 0.0, 'tau': 0.06, 'ns': 0.965, 'OmR': 0.0014936944554559178, 'w': -1, 'wa': 0, 'Tcmb': <Quantity 2.7255 K>, 'z_max': 4, 'use_astropy': True, 'Oml': 0.721, 'astropy_cosmo': FlatLambdaCDM(name=\"Planck18\", H0=67.66 km / (Mpc s), Om0=0.30966, Tcmb0=2.7255 K, Neff=3.046, m_nu=[0.   0.   0.06] eV, Ob0=0.04897)}, 'WT_kwargs': None, 'WT': None, 'z_PS': None, 'log_z_PS': 2, 'window_l': None, 'Win': None, 'cl_func_names': {('galaxy', 'galaxy'): 'calc_cl'}, 'stack_data': False, 'theta_bins': None, 'theta_bins_center': None, 'corr_indxs': None, 'stack_indxs': None, 'name': '', 'clean_tracer_window': True, 'njobs_submit_per_worker': 10}\n",
      "Tracer utils has tracers:  ['shear']\n"
     ]
    },
    {
     "name": "stderr",
     "output_type": "stream",
     "text": [
      "/hildafs/home/andypark/.local/lib/python3.9/site-packages/skylens-0.1-py3.9.egg/skylens/angular_power_spectra.py:33: RuntimeWarning: divide by zero encountered in true_divide\n"
     ]
    },
    {
     "name": "stdout",
     "output_type": "stream",
     "text": [
      "power spectra function:  <bound method Power_Spectra.camb_pk_too_many_z of <skylens.power_spectra.Power_Spectra object at 0x14e2785652b0>>\n",
      "Win gen: step size 100 2000 2001.0 1 True True\n",
      "Win not found, computing now\n",
      "get_Win, total cl keys:  10\n",
      "set window_cl: cl0,cl_b done 0.00016927719116210938\n",
      "set window_cl: cl done 0.04409646987915039 0.068 0.0\n",
      "set_window_cl done 266.01060461997986\n",
      "wigner_files: {0: '/hildafs/projects/phy200017p/andypark/Skylens_public/temp/wig3j_l5000_w5000_0_reorder.zarr', 2: '/hildafs/projects/phy200017p/andypark/Skylens_public/temp/wig3j_l2200_w4400_2_reorder.zarr'}\n",
      "wigner done dict_keys([])\n",
      "setting windows, coupling matrices  <Client: 'tcp://127.0.0.1:42913' processes=1 threads=1, memory=51.56 GiB>\n",
      "get_coupling_lm_all_win 500\n",
      "got wig3j 500\n",
      "done lm 500 96.41630363464355\n",
      "get_coupling_lm_all_win 1100\n",
      "got wig3j 1100\n",
      "done lm 1100 93.7152886390686\n",
      "get_coupling_lm_all_win 300\n",
      "got wig3j 300\n",
      "done lm 300 71.37934136390686\n",
      "get_coupling_lm_all_win 100\n",
      "got wig3j 100\n",
      "done lm 100 60.376927852630615\n",
      "get_coupling_lm_all_win 1500\n",
      "got wig3j 1500\n",
      "done lm 1500 83.31753182411194\n",
      "get_coupling_lm_all_win 1800\n",
      "got wig3j 1800\n",
      "done lm 1800 66.03029823303223\n",
      "get_coupling_lm_all_win 1700\n",
      "got wig3j 1700\n",
      "done lm 1700 67.68533992767334\n",
      "get_coupling_lm_all_win 800\n",
      "got wig3j 800\n",
      "done lm 800 65.09861755371094\n",
      "get_coupling_lm_all_win 1400\n",
      "got wig3j 1400\n",
      "done lm 1400 64.48895239830017\n",
      "get_coupling_lm_all_win 1900\n",
      "got wig3j 1900\n",
      "done lm 1900 65.07848620414734\n",
      "get_coupling_lm_all_win 200\n",
      "got wig3j 200\n",
      "done lm 200 64.43828797340393\n",
      "get_coupling_lm_all_win 600\n",
      "got wig3j 600\n",
      "done lm 600 64.4885847568512\n",
      "get_coupling_lm_all_win 700\n",
      "got wig3j 700\n",
      "done lm 700 66.6695384979248\n",
      "get_coupling_lm_all_win 0\n",
      "got wig3j 0\n",
      "done lm 0 61.43584227561951\n",
      "get_coupling_lm_all_win 1000\n",
      "got wig3j 1000\n",
      "done lm 1000 66.06777787208557\n",
      "get_coupling_lm_all_win 1600\n",
      "got wig3j 1600\n",
      "done lm 1600 67.12344288825989\n",
      "get_coupling_lm_all_win 1200\n",
      "got wig3j 1200\n",
      "done lm 1200 66.91113615036011\n",
      "get_coupling_lm_all_win 900\n",
      "got wig3j 900\n",
      "done lm 900 64.84984755516052\n",
      "get_coupling_lm_all_win 400\n",
      "got wig3j 400\n",
      "done lm 400 65.8175208568573\n",
      "done combine lm 1439.4323825836182\n",
      "get_coupling_lm_all_win 1300\n",
      "got wig3j 1300\n",
      "done lm 1300 65.16504406929016\n",
      "scattering window. Size:  352.11603\n",
      "Window done. Size: 0.001\n"
     ]
    }
   ],
   "source": [
    "Skylens_kwargs=parse_dict(locals())\n",
    "\n",
    "Skylens_kwargs['do_pseudo_cl']=True\n",
    "Skylens_kwargs['do_xi']=False\n",
    "SL_cl0=Skylens(**Skylens_kwargs)"
   ]
  },
  {
   "cell_type": "code",
   "execution_count": 16,
   "metadata": {},
   "outputs": [
    {
     "name": "stdout",
     "output_type": "stream",
     "text": [
      "gather_dict got empty dictionary\n"
     ]
    }
   ],
   "source": [
    "SL_cl0.gather_data()"
   ]
  },
  {
   "cell_type": "code",
   "execution_count": 80,
   "metadata": {},
   "outputs": [],
   "source": [
    "pcl_t = np.zeros((100, 4, 3072))\n",
    "for i in range(100):\n",
    "    fname = f'../sims/pcl_{i}.pickle'\n",
    "    with open(fname, 'rb') as f:\n",
    "        d = pickle.load(f)\n",
    "    for b in range(4):\n",
    "        pcl_t[i][b] = d[b]"
   ]
  },
  {
   "cell_type": "code",
   "execution_count": 73,
   "metadata": {},
   "outputs": [],
   "source": [
    "pcl = np.mean(pcl_t, axis=0)\n",
    "std = np.std(pcl_t, axis=0)"
   ]
  },
  {
   "cell_type": "code",
   "execution_count": 81,
   "metadata": {},
   "outputs": [],
   "source": [
    "cl_corrected = dict()\n",
    "for i in range(4):\n",
    "    for j in range(i, 4):\n",
    "        fname = f'../data/cl_{i}_{j}.txt'\n",
    "        ell, cl = np.loadtxt(fname)\n",
    "        bi = (i, j)\n",
    "        cl_corrected[bi] = cl"
   ]
  },
  {
   "cell_type": "code",
   "execution_count": 82,
   "metadata": {},
   "outputs": [],
   "source": [
    "cl_corrected_binned = dict()\n",
    "for b in range(sim_dict['n_bins']):\n",
    "    M = SL_cl0.Win['cl'][corr_ll][(b, b)]['M']\n",
    "    cl_binned = SL_cl0.binning.bin_1d(cl_corrected[(b, b)][:lmax_cl], bin_utils=SL_cl0.cl_bin_utils)\n",
    "    cl_corrected_binned[b] = cl_binned"
   ]
  },
  {
   "cell_type": "code",
   "execution_count": 84,
   "metadata": {},
   "outputs": [
    {
     "name": "stderr",
     "output_type": "stream",
     "text": [
      "/tmp/ipykernel_822158/2592846886.py:7: RuntimeWarning: divide by zero encountered in true_divide\n",
      "  wt0 = 1. / cl_corrected[(b, b)][:lmax_cl]\n"
     ]
    }
   ],
   "source": [
    "cl_sl_binned = dict()\n",
    "for i in range(100):\n",
    "    cl_sl_binned[i] = dict()\n",
    "    for b in range(sim_dict['n_bins']):\n",
    "        pcl_binned = SL_cl0.binning.bin_1d(pcl_t[i][b][:lmax_cl], bin_utils=SL_cl0.cl_bin_utils)\n",
    "        M = SL_cl0.Win['cl'][corr_ll][(b, b)]['M']\n",
    "        wt0 = 1. / cl_corrected[(b, b)][:lmax_cl]\n",
    "        wt0[:2] = 0\n",
    "        cl_binned = SL_cl0.binning.bin_1d(cl_corrected[(b, b)][:lmax_cl], bin_utils=SL_cl0.cl_bin_utils)\n",
    "        M_binned = SL_cl0.binning.bin_2d_coupling(M=M, wt0=wt0, \n",
    "                                                 wt_b=cl_binned, bin_utils=SL_cl0.cl_bin_utils)\n",
    "        cl_sl_binned[i][b] = pcl_binned @ np.linalg.pinv(M_binned)"
   ]
  },
  {
   "cell_type": "code",
   "execution_count": 86,
   "metadata": {},
   "outputs": [],
   "source": [
    "pcl_t_binned = np.zeros((100, 4, 24))\n",
    "for i in range(100):\n",
    "    for b in range(4):\n",
    "        pcl_t_binned[i][b] = cl_sl_binned[i][b]"
   ]
  },
  {
   "cell_type": "code",
   "execution_count": 90,
   "metadata": {},
   "outputs": [],
   "source": [
    "pcl_binned_mean = np.mean(pcl_t_binned, axis=0)\n",
    "pcl_binned_std = np.std(pcl_t_binned, axis=0)"
   ]
  },
  {
   "cell_type": "code",
   "execution_count": 98,
   "metadata": {},
   "outputs": [
    {
     "data": {
      "image/png": "[encoded data removed]",
      "text/plain": [
       "<Figure size 2160x864 with 8 Axes>"
      ]
     },
     "metadata": {
      "needs_background": "light"
     },
     "output_type": "display_data"
    }
   ],
   "source": [
    "bc = 0.5 * (SL_cl0.l_bins[1:] + SL_cl0.l_bins[:-1])\n",
    "fig = plt.figure(figsize=(30, 12))\n",
    "gs = gridspec.GridSpec(2, 4, height_ratios=[3, 1], hspace=0) \n",
    "n_bins = sim_dict['n_bins']\n",
    "for i in range(n_bins):\n",
    "    ax0, ax1 = plt.subplot(gs[0, i]), plt.subplot(gs[1, i])\n",
    "    ax0.errorbar(bc, pcl_binned_mean[i], pcl_binned_std[i], fmt='o', ls='None', label=r'$C_\\ell^{SL}$')\n",
    "    ax0.loglog(ell[lmin_cl_Bins:lmax_cl_Bins], cl_corrected[(i, i)][lmin_cl_Bins:lmax_cl_Bins], label=r'$C_\\ell$')\n",
    "    ax0.loglog(bc, cl_corrected_binned[i], '.')\n",
    "    ax0.tick_params(axis='both', which='major', labelsize=18)\n",
    "    ax0.tick_params(axis='both', which='minor', labelsize=18)\n",
    "    ax0.label_outer()\n",
    "    ax0.legend(fontsize=22)\n",
    "    \n",
    "    ax1.errorbar(bc, pcl_binned_mean[i] / cl_corrected_binned[i] - 1, pcl_binned_std[i] / pcl_binned_mean[i], fmt='o', ls='None')\n",
    "    ax1.set_xscale('log')\n",
    "    ax1.grid(True)\n",
    "    ax1.set_ylim(-1.5, 1.5)\n",
    "    ax1.set_ylabel(r'$C_\\ell^{SL} / C_\\ell - 1$', fontsize=22)\n",
    "    ax1.tick_params(axis='both', which='major', labelsize=18)\n",
    "    ax1.tick_params(axis='both', which='minor', labelsize=18)\n",
    "plt.tight_layout()"
   ]
  },
  {
   "cell_type": "code",
   "execution_count": null,
   "metadata": {},
   "outputs": [],
   "source": []
  }
 ],
 "metadata": {
  "kernelspec": {
   "display_name": "skylite",
   "language": "python",
   "name": "skylite"
  },
  "language_info": {
   "codemirror_mode": {
    "name": "ipython",
    "version": 3
   },
   "file_extension": ".py",
   "mimetype": "text/x-python",
   "name": "python",
   "nbconvert_exporter": "python",
   "pygments_lexer": "ipython3",
   "version": "3.9.12"
  }
 },
 "nbformat": 4,
 "nbformat_minor": 4
}
